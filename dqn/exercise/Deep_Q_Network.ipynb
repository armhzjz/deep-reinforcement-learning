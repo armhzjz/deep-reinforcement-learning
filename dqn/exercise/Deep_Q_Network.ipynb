{
 "cells": [
  {
   "cell_type": "markdown",
   "metadata": {},
   "source": [
    "# Deep Q-Network (DQN)\n",
    "---\n",
    "In this notebook, you will implement a DQN agent with OpenAI Gym's LunarLander-v2 environment.\n",
    "\n",
    "### 1. Import the Necessary Packages"
   ]
  },
  {
   "cell_type": "code",
   "execution_count": 1,
   "metadata": {
    "scrolled": false
   },
   "outputs": [
    {
     "name": "stdout",
     "output_type": "stream",
     "text": [
      "Requirement already satisfied: box2d in /home/pythonist/.conda/envs/deepReinforcement/lib/python3.10/site-packages (2.3.10)\n",
      "Requirement already satisfied: box2d-kengz in /home/pythonist/.conda/envs/deepReinforcement/lib/python3.10/site-packages (2.3.3)\n",
      "Requirement already satisfied: gym[box2d] in /home/pythonist/.conda/envs/deepReinforcement/lib/python3.10/site-packages (0.26.1)\n",
      "Requirement already satisfied: numpy>=1.18.0 in /home/pythonist/.conda/envs/deepReinforcement/lib/python3.10/site-packages (from gym[box2d]) (1.26.0)\n",
      "Requirement already satisfied: cloudpickle>=1.2.0 in /home/pythonist/.conda/envs/deepReinforcement/lib/python3.10/site-packages (from gym[box2d]) (2.2.1)\n",
      "Requirement already satisfied: gym-notices>=0.0.4 in /home/pythonist/.conda/envs/deepReinforcement/lib/python3.10/site-packages (from gym[box2d]) (0.0.8)\n",
      "Requirement already satisfied: box2d-py==2.3.5 in /home/pythonist/.conda/envs/deepReinforcement/lib/python3.10/site-packages (from gym[box2d]) (2.3.5)\n",
      "Requirement already satisfied: pygame==2.1.0 in /home/pythonist/.conda/envs/deepReinforcement/lib/python3.10/site-packages (from gym[box2d]) (2.1.0)\n",
      "Requirement already satisfied: swig==4.* in /home/pythonist/.conda/envs/deepReinforcement/lib/python3.10/site-packages (from gym[box2d]) (4.1.1.post0)\n",
      "Requirement already satisfied: pyvirtualdisplay in /home/pythonist/.conda/envs/deepReinforcement/lib/python3.10/site-packages (3.0)\n"
     ]
    },
    {
     "data": {
      "text/plain": [
       "<contextlib.ExitStack at 0x6beac6f74310>"
      ]
     },
     "execution_count": 1,
     "metadata": {},
     "output_type": "execute_result"
    }
   ],
   "source": [
    "import gymnasium as gym\n",
    "\n",
    "!pip3 install box2d box2d-kengz gym[box2d]\n",
    "import random\n",
    "import torch\n",
    "import numpy as np\n",
    "from collections import deque\n",
    "import matplotlib.pyplot as plt\n",
    "%matplotlib inline\n",
    "\n",
    "!python -m pip install pyvirtualdisplay\n",
    "from pyvirtualdisplay import Display\n",
    "display = Display(visible=0, size=(1400, 900))\n",
    "display.start()\n",
    "\n",
    "is_ipython = 'inline' in plt.get_backend()\n",
    "if is_ipython:\n",
    "    from IPython import display\n",
    "\n",
    "plt.ion()"
   ]
  },
  {
   "cell_type": "markdown",
   "metadata": {},
   "source": [
    "### 2. Instantiate the Environment and Agent\n",
    "\n",
    "Initialize the environment in the code cell below."
   ]
  },
  {
   "cell_type": "code",
   "execution_count": 2,
   "metadata": {},
   "outputs": [
    {
     "name": "stdout",
     "output_type": "stream",
     "text": [
      "State shape:  (8,)\n",
      "Number of actions:  4\n"
     ]
    }
   ],
   "source": [
    "env = gym.make('LunarLander-v2', render_mode='rgb_array')\n",
    "print('State shape: ', env.observation_space.shape)\n",
    "print('Number of actions: ', env.action_space.n)"
   ]
  },
  {
   "cell_type": "markdown",
   "metadata": {},
   "source": [
    "Before running the next code cell, familiarize yourself with the code in **Step 2** and **Step 3** of this notebook, along with the code in `dqn_agent.py` and `model.py`.  Once you have an understanding of how the different files work together, \n",
    "- Define a neural network architecture in `model.py` that maps states to action values.  This file is mostly empty - it's up to you to define your own deep Q-network!\n",
    "- Finish the `learn` method in the `Agent` class in `dqn_agent.py`.  The sampled batch of experience tuples is already provided for you; you need only use the local and target Q-networks to compute the loss, before taking a step towards minimizing the loss.\n",
    "\n",
    "Once you have completed the code in `dqn_agent.py` and `model.py`, run the code cell below.  (_If you end up needing to make multiple changes and get unexpected behavior, please restart the kernel and run the cells from the beginning of the notebook!_)\n",
    "\n",
    "You can find the solution files, along with saved model weights for a trained agent, in the `solution/` folder.  (_Note that there are many ways to solve this exercise, and the \"solution\" is just one way of approaching the problem, to yield a trained agent._)"
   ]
  },
  {
   "cell_type": "code",
   "execution_count": 3,
   "metadata": {},
   "outputs": [
    {
     "data": {
      "image/png": "[encoded data removed]",
      "text/plain": [
       "<Figure size 640x480 with 1 Axes>"
      ]
     },
     "metadata": {},
     "output_type": "display_data"
    }
   ],
   "source": [
    "from dqn_agent import Agent\n",
    "\n",
    "agent = Agent(state_size=8, action_size=4, seed=1536)\n",
    "\n",
    "# watch an untrained agent\n",
    "state = env.reset()[0]\n",
    "img = plt.imshow(env.render())\n",
    "for j in range(200):\n",
    "    action = agent.act(state)\n",
    "    img.set_data(env.render()) \n",
    "    plt.axis('off')\n",
    "    display.display(plt.gcf())\n",
    "    display.clear_output(wait=True)\n",
    "    state, reward, done, _, __ = env.step(action)\n",
    "    if done:\n",
    "        break \n",
    "        \n",
    "env.close()\n",
    "# delete the agent instance, so that any 'local' 'target' network types created will also be removed\n",
    "del agent"
   ]
  },
  {
   "cell_type": "markdown",
   "metadata": {},
   "source": [
    "### 3. Train the Agent with DQN\n",
    "\n",
    "Run the code cell below to train the agent from scratch.  You are welcome to amend the supplied values of the parameters in the function, to try to see if you can get better performance!"
   ]
  },
  {
   "cell_type": "code",
   "execution_count": 4,
   "metadata": {
    "scrolled": false
   },
   "outputs": [
    {
     "name": "stdout",
     "output_type": "stream",
     "text": [
      "Episode 100\tAverage Score: -186.16\tLatest score: -143.0157\n",
      "Episode 200\tAverage Score: -97.82\tLatest score: 106.851897\n",
      "Episode 300\tAverage Score: -11.39\tLatest score: -34.57948\n",
      "Episode 400\tAverage Score: 24.49\tLatest score: 22.3819772\n",
      "Episode 500\tAverage Score: 42.72\tLatest score: 94.063948\n",
      "Episode 600\tAverage Score: 72.59\tLatest score: 100.9006\n",
      "Episode 700\tAverage Score: 84.01\tLatest score: 93.65408\n",
      "Episode 800\tAverage Score: 86.43\tLatest score: 80.38915\n",
      "Episode 900\tAverage Score: 104.49\tLatest score: 107.9709\n",
      "Episode 1000\tAverage Score: 134.93\tLatest score: 146.6647\n",
      "Episode 1100\tAverage Score: 141.98\tLatest score: 157.28247\n",
      "Episode 1200\tAverage Score: 101.02\tLatest score: 17.822042\n",
      "Episode 1300\tAverage Score: 130.34\tLatest score: 145.5819\n",
      "Episode 1400\tAverage Score: 140.97\tLatest score: 144.9303\n",
      "Episode 1500\tAverage Score: 173.28\tLatest score: 126.6602\n",
      "Episode 1600\tAverage Score: 172.26\tLatest score: 169.0136\n",
      "Episode 1700\tAverage Score: 177.41\tLatest score: 245.7191\n",
      "Episode 1800\tAverage Score: 199.21\tLatest score: 171.0995\n",
      "Episode 1900\tAverage Score: 205.33\tLatest score: 158.1411\n",
      "Episode 2000\tAverage Score: 203.06\tLatest score: 257.5670\n",
      "Episode 2100\tAverage Score: 223.43\tLatest score: 276.8005\n",
      "Episode 2200\tAverage Score: 232.93\tLatest score: 115.3924\n",
      "Episode 2300\tAverage Score: 196.79\tLatest score: 192.5932\n",
      "Episode 2400\tAverage Score: 192.67\tLatest score: 180.5598\n",
      "Episode 2500\tAverage Score: 207.08\tLatest score: 156.87115\n",
      "Episode 2600\tAverage Score: 219.84\tLatest score: 200.2015\n",
      "Episode 2700\tAverage Score: 216.88\tLatest score: 176.7058\n",
      "Episode 2800\tAverage Score: 204.49\tLatest score: 288.4161\n",
      "Episode 2900\tAverage Score: 245.97\tLatest score: 274.3432\n",
      "Episode 2913\tAverage Score: 250.03\tLatest score: 273.1177\n",
      "Environment solved in 2813 episodes!\tAverage Score: 250.03\n"
     ]
    },
    {
     "data": {
      "image/png": "[encoded data removed]",
      "text/plain": [
       "<Figure size 640x480 with 1 Axes>"
      ]
     },
     "metadata": {},
     "output_type": "display_data"
    }
   ],
   "source": [
    "def dqn(\n",
    "        dqn_agent,\n",
    "        n_episodes=2000,\n",
    "        max_t=1000,\n",
    "        eps_start=1.0,\n",
    "        eps_end=0.01,\n",
    "        eps_decay=0.995,\n",
    "        UPDATE_EVERY = 4,\n",
    "        target_mean_score=200.0):\n",
    "    \"\"\"Deep Q-Learning.\n",
    "    \n",
    "    Params\n",
    "    ======\n",
    "        n_episodes (int): maximum number of training episodes\n",
    "        max_t (int): maximum number of timesteps per episode\n",
    "        eps_start (float): starting value of epsilon, for epsilon-greedy action selection\n",
    "        eps_end (float): minimum value of epsilon\n",
    "        eps_decay (float): multiplicative factor (per episode) for decreasing epsilon\n",
    "    \"\"\"\n",
    "    scores = []                        # list containing scores from each episode\n",
    "    scores_window = deque(maxlen=100)  # last 100 scores\n",
    "    eps = eps_start                    # initialize epsilon\n",
    "    t_step = -1\n",
    "    for i_episode in range(1, n_episodes+1):\n",
    "        state = env.reset()[0]\n",
    "        score = 0\n",
    "        for t in range(max_t):\n",
    "            t_step = (t_step + 1) % UPDATE_EVERY\n",
    "            if t_step == 0:\n",
    "                action = dqn_agent.act(state, eps)\n",
    "            next_state, reward, done, truncated, _ = env.step(action)\n",
    "            dqn_agent.step(state, action, reward, next_state, done, t_step)\n",
    "            state = next_state\n",
    "            score += reward\n",
    "            if done:  # or truncated:\n",
    "                break\n",
    "        scores_window.append(score)       # save most recent score\n",
    "        scores.append(score)              # save most recent score\n",
    "        eps = max(eps_end, eps_decay*eps) # decrease epsilon\n",
    "        print('\\rEpisode {}\\tAverage Score: {:.2f}\\tLatest score: {:.4f}'.format(i_episode, np.mean(scores_window), score), end='')\n",
    "        if i_episode % 100 == 0:\n",
    "            print('\\rEpisode {}\\tAverage Score: {:.2f}\\tLatest score: {:.4f}'.format(i_episode, np.mean(scores_window), score))\n",
    "        scores_windows_list = list(scores_window)\n",
    "        if np.mean(scores_window) >= target_mean_score and np.mean(scores_windows_list[-10:]) >= target_mean_score:\n",
    "            print('\\nEnvironment solved in {:d} episodes!\\tAverage Score: {:.2f}'.format(i_episode-100, np.mean(scores_window)))\n",
    "            torch.save(dqn_agent.qnetwork_local.state_dict(), 'checkpoint.pth')\n",
    "            break\n",
    "    return scores\n",
    "\n",
    "agent = Agent(state_size=8, action_size=4, seed=761)\n",
    "scores = dqn(agent, n_episodes=3000, max_t=250, UPDATE_EVERY=4, target_mean_score=250.)\n",
    "\n",
    "# plot the scores\n",
    "fig = plt.figure()\n",
    "ax = fig.add_subplot(111)\n",
    "plt.plot(np.arange(len(scores)), scores)\n",
    "plt.ylabel('Score')\n",
    "plt.xlabel('Episode #')\n",
    "plt.show()\n",
    "del agent"
   ]
  },
  {
   "cell_type": "markdown",
   "metadata": {},
   "source": [
    "### 4. Watch a Smart Agent!\n",
    "\n",
    "In the next code cell, you will load the trained weights from file to watch a smart agent!"
   ]
  },
  {
   "cell_type": "code",
   "execution_count": 5,
   "metadata": {
    "scrolled": false
   },
   "outputs": [
    {
     "data": {
      "image/png": "[encoded data removed]",
      "text/plain": [
       "<Figure size 640x480 with 1 Axes>"
      ]
     },
     "metadata": {},
     "output_type": "display_data"
    }
   ],
   "source": [
    "frame_counters = []\n",
    "rewards = []\n",
    "# load the weights from file\n",
    "trained_agent = Agent(state_size=8, action_size=4, seed=761)\n",
    "trained_agent.qnetwork_local.load_state_dict(torch.load('checkpoint.pth'))\n",
    "for i in range(5):\n",
    "    total_rewards = 0\n",
    "    frame_counter = 0\n",
    "    state = env.reset()[0]\n",
    "    img = plt.imshow(env.render())\n",
    "    for j in range(200):\n",
    "        action = trained_agent.act(state)\n",
    "        img.set_data(env.render()) \n",
    "        plt.axis('off')\n",
    "        display.display(plt.gcf())\n",
    "        display.clear_output(wait=True)\n",
    "        state, reward, done, _, __ = env.step(action)\n",
    "        frame_counter += 1\n",
    "        total_rewards += reward\n",
    "        if done:\n",
    "            break\n",
    "    frame_counters.append(frame_counter)\n",
    "    rewards.append(total_rewards)"
   ]
  },
  {
   "cell_type": "code",
   "execution_count": 6,
   "metadata": {},
   "outputs": [
    {
     "name": "stdout",
     "output_type": "stream",
     "text": [
      "rewards: [197.74812368983243, 263.7449090298918, 234.88184705002615, 243.8372300845083, 282.77924060112997]\n",
      "frame counters: [200, 191, 175, 165, 196]\n"
     ]
    }
   ],
   "source": [
    "print(f'rewards: {rewards}')\n",
    "print(f'frame counters: {frame_counters}')"
   ]
  },
  {
   "cell_type": "markdown",
   "metadata": {},
   "source": [
    "### 5. Explore\n",
    "\n",
    "In this exercise, you have implemented a DQN agent and demonstrated how to use it to solve an OpenAI Gym environment.  To continue your learning, you are encouraged to complete any (or all!) of the following tasks:\n",
    "- Amend the various hyperparameters and network architecture to see if you can get your agent to solve the environment faster.  Once you build intuition for the hyperparameters that work well with this environment, try solving a different OpenAI Gym task with discrete actions!\n",
    "- You may like to implement some improvements such as prioritized experience replay, Double DQN, or Dueling DQN! \n",
    "- Write a blog post explaining the intuition behind the DQN algorithm and demonstrating how to use it to solve an RL environment of your choosing.  "
   ]
  }
 ],
 "metadata": {
  "kernelspec": {
   "display_name": "Python 3 (ipykernel)",
   "language": "python",
   "name": "python3"
  },
  "language_info": {
   "codemirror_mode": {
    "name": "ipython",
    "version": 3
   },
   "file_extension": ".py",
   "mimetype": "text/x-python",
   "name": "python",
   "nbconvert_exporter": "python",
   "pygments_lexer": "ipython3",
   "version": "3.10.13"
  }
 },
 "nbformat": 4,
 "nbformat_minor": 2
}
